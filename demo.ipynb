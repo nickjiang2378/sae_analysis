{
 "cells": [
  {
   "cell_type": "code",
   "execution_count": 1,
   "metadata": {},
   "outputs": [
    {
     "data": {
      "text/plain": [
       "True"
      ]
     },
     "execution_count": 1,
     "metadata": {},
     "output_type": "execute_result"
    }
   ],
   "source": [
    "# Setup\n",
    "from goodfire import Client, Variant\n",
    "import os\n",
    "from utils import DatasetFeatureActivations\n",
    "from dotenv import load_dotenv\n",
    "\n",
    "# Load the API key from the .env file\n",
    "load_dotenv()\n"
   ]
  },
  {
   "cell_type": "code",
   "execution_count": 2,
   "metadata": {},
   "outputs": [],
   "source": [
    "client = Client(api_key=os.environ[\"GOODFIRE_API_KEY\"])\n",
    "variant = Variant(\"meta-llama/Llama-3.3-70B-Instruct\")"
   ]
  },
  {
   "cell_type": "code",
   "execution_count": 3,
   "metadata": {},
   "outputs": [],
   "source": [
    "data_list1 = [\"Hello, how are you?\", \"I am fine, thank you for asking.\", \"I'm having a great day!\"]\n",
    "data_list2 = [\"I am not fine, thank you for asking.\", \"I'm having a bad day.\"]"
   ]
  },
  {
   "cell_type": "code",
   "execution_count": 4,
   "metadata": {},
   "outputs": [
    {
     "name": "stderr",
     "output_type": "stream",
     "text": [
      "Calculating feature activations: 100%|██████████| 3/3 [00:03<00:00,  1.00s/it]\n"
     ]
    },
    {
     "name": "stdout",
     "output_type": "stream",
     "text": [
      "Initialized dataset feature activations 0f4ae110-06af-407a-aab6-86cd67b01eb2\n"
     ]
    },
    {
     "name": "stderr",
     "output_type": "stream",
     "text": [
      "Calculating feature activations: 100%|██████████| 2/2 [00:01<00:00,  1.16it/s]"
     ]
    },
    {
     "name": "stdout",
     "output_type": "stream",
     "text": [
      "Initialized dataset feature activations 2906ea90-062e-4dbb-a9c4-7f4d8f6e7315\n"
     ]
    },
    {
     "name": "stderr",
     "output_type": "stream",
     "text": [
      "\n"
     ]
    }
   ],
   "source": [
    "# Extract feature activations from the datasets\n",
    "dataset1 = DatasetFeatureActivations(data_list1, client, variant) # dataset1 is a list of strings\n",
    "dataset2 = DatasetFeatureActivations(data_list2, client, variant)\n"
   ]
  },
  {
   "cell_type": "code",
   "execution_count": 6,
   "metadata": {},
   "outputs": [
    {
     "name": "stdout",
     "output_type": "stream",
     "text": [
      "Loaded dataset 262cf69f-5d54-4a57-bdf7-7b103f16523e\n",
      "Loaded dataset 9e9f9a33-d518-498d-bd4d-b71eb14bd24a\n"
     ]
    }
   ],
   "source": [
    "# Save the feature activations to a file [optional]\n",
    "# dataset1.save_to_file(\"dataset1.pkl\")\n",
    "# dataset2.save_to_file(\"dataset2.pkl\")\n",
    "\n",
    "# Load the feature activations from a file [optional]\n",
    "# dataset2 = DatasetFeatureActivations.load_from_file(\"dataset2.pkl\")\n",
    "# dataset1 = DatasetFeatureActivations.load_from_file(\"dataset1.pkl\")"
   ]
  },
  {
   "cell_type": "code",
   "execution_count": 5,
   "metadata": {},
   "outputs": [],
   "source": [
    "# Get feature differences across dataset 1 and 2\n",
    "diff = dataset2.diff(dataset1)\n",
    "diff.to_csv(\"diff.csv\")"
   ]
  },
  {
   "cell_type": "code",
   "execution_count": 6,
   "metadata": {},
   "outputs": [
    {
     "name": "stdout",
     "output_type": "stream",
     "text": [
      "FeatureGroup([\n",
      "   0: \"Friendly informal greetings and well-wishes in personal correspondence\",\n",
      "   1: \"Polite expressions and well-wishes, particularly 'Good' in greetings and closings\",\n",
      "   2: \"Morning/daytime greetings across multiple languages\",\n",
      "   3: \"Nice to meet you introductions and first-time greetings\",\n",
      "   4: \"Spanish language greetings, particularly hola\",\n",
      "   5: \"Best regards in formal email closings\",\n",
      "   6: \"Informal greetings in Romance languages, especially ciao\",\n",
      "   7: \"Informal greetings using 'up' (what's up, wassup)\",\n",
      "   8: \"Professional expressions of good wishes and luck\",\n",
      "   ...\n",
      "   99: \"The formal email opening phrase 'I hope this email finds you well'\"\n",
      "])\n"
     ]
    }
   ],
   "source": [
    "# Search over a dataset using specific feature(s) as reference\n",
    "features = client.features.search(\"greetings\", model=variant, top_k=100)\n",
    "\n",
    "print(features)\n",
    "\n",
    "feature_indices = [feature.index_in_sae for feature in features]\n",
    "\n",
    "search_results = dataset1.sort_by_features(feature_indices)\n",
    "search_results.to_csv(\"search_results.csv\")"
   ]
  }
 ],
 "metadata": {
  "kernelspec": {
   "display_name": "ds_sae",
   "language": "python",
   "name": "python3"
  },
  "language_info": {
   "codemirror_mode": {
    "name": "ipython",
    "version": 3
   },
   "file_extension": ".py",
   "mimetype": "text/x-python",
   "name": "python",
   "nbconvert_exporter": "python",
   "pygments_lexer": "ipython3",
   "version": "3.11.11"
  }
 },
 "nbformat": 4,
 "nbformat_minor": 2
}
